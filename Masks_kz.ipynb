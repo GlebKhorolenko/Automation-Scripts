{
  "nbformat": 4,
  "nbformat_minor": 0,
  "metadata": {
    "colab": {
      "provenance": [],
      "collapsed_sections": [],
      "authorship_tag": "ABX9TyPvVpbiaauax1o9APkKP/Rm",
      "include_colab_link": true
    },
    "kernelspec": {
      "name": "python3",
      "display_name": "Python 3"
    },
    "language_info": {
      "name": "python"
    }
  },
  "cells": [
    {
      "cell_type": "markdown",
      "metadata": {
        "id": "view-in-github",
        "colab_type": "text"
      },
      "source": [
        "<a href=\"https://colab.research.google.com/github/GlebKhorolenko/Automation-Scripts/blob/main/Masks_kz.ipynb\" target=\"_parent\"><img src=\"https://colab.research.google.com/assets/colab-badge.svg\" alt=\"Open In Colab\"/></a>"
      ]
    },
    {
      "cell_type": "code",
      "source": [
        "pip install xlsxwriter"
      ],
      "metadata": {
        "colab": {
          "base_uri": "https://localhost:8080/"
        },
        "id": "omJlD12_BkQN",
        "outputId": "95a53a70-c5d9-4f15-92bb-7281c7e42807"
      },
      "execution_count": null,
      "outputs": [
        {
          "output_type": "stream",
          "name": "stdout",
          "text": [
            "Looking in indexes: https://pypi.org/simple, https://us-python.pkg.dev/colab-wheels/public/simple/\n",
            "Collecting xlsxwriter\n",
            "  Downloading XlsxWriter-3.0.3-py3-none-any.whl (149 kB)\n",
            "\u001b[K     |████████████████████████████████| 149 kB 10.1 MB/s \n",
            "\u001b[?25hInstalling collected packages: xlsxwriter\n",
            "Successfully installed xlsxwriter-3.0.3\n"
          ]
        }
      ]
    },
    {
      "cell_type": "code",
      "source": [
        "import pandas as pd \n",
        "import os\n"
      ],
      "metadata": {
        "id": "4IKmv6qNs3qW"
      },
      "execution_count": null,
      "outputs": []
    },
    {
      "cell_type": "code",
      "source": [
        "df = pd.read_excel('/content/Выбрасываешь ли ты одноразовую маску (1).xlsx')\n",
        "df.tail(10)"
      ],
      "metadata": {
        "colab": {
          "base_uri": "https://localhost:8080/",
          "height": 363
        },
        "id": "sTtf7FYSPk8D",
        "outputId": "b6b446ab-2915-486d-9b58-5a88823af7f9"
      },
      "execution_count": null,
      "outputs": [
        {
          "output_type": "execute_result",
          "data": {
            "text/plain": [
              "       num          f1   f4_2   d1                         A1   A2   A3  \\\n",
              "394  390.0      Алматы  25-34  Жен  В основном тканевые маски  NaN  NaN   \n",
              "395  392.0      Алматы  25-34  Жен  В основном тканевые маски  NaN  NaN   \n",
              "396  393.0  Нур-Султан  35-44  Жен  В основном тканевые маски  NaN  NaN   \n",
              "397  396.0  Нур-Султан  25-34  Жен  В основном тканевые маски  NaN  NaN   \n",
              "398  397.0  Нур-Султан  18-24  Жен  В основном тканевые маски  NaN  NaN   \n",
              "399  400.0  Нур-Султан  25-34  Муж  В основном тканевые маски  NaN  NaN   \n",
              "400  401.0  Нур-Султан  25-34  Жен  В основном тканевые маски  NaN  NaN   \n",
              "401  402.0  Нур-Султан  18-24  Жен  В основном тканевые маски  NaN  NaN   \n",
              "402  403.0      Алматы  25-34  Жен  В основном тканевые маски  NaN  NaN   \n",
              "403  404.0     Шымкент  25-34  Жен              Не ношу маски  NaN  NaN   \n",
              "\n",
              "          weight       w_n  \n",
              "394  9324.560000  1.512265  \n",
              "395  9324.560000  1.512265  \n",
              "396  6570.846154  1.065665  \n",
              "397  6241.526316  1.012256  \n",
              "398  2637.315789  0.427722  \n",
              "399  2569.634146  0.416745  \n",
              "400  6241.526316  1.012256  \n",
              "401  2637.315789  0.427722  \n",
              "402  9324.560000  1.512265  \n",
              "403  5238.277778  0.849548  "
            ],
            "text/html": [
              "\n",
              "  <div id=\"df-1b62f97e-f714-4e28-a183-6635e2c32577\">\n",
              "    <div class=\"colab-df-container\">\n",
              "      <div>\n",
              "<style scoped>\n",
              "    .dataframe tbody tr th:only-of-type {\n",
              "        vertical-align: middle;\n",
              "    }\n",
              "\n",
              "    .dataframe tbody tr th {\n",
              "        vertical-align: top;\n",
              "    }\n",
              "\n",
              "    .dataframe thead th {\n",
              "        text-align: right;\n",
              "    }\n",
              "</style>\n",
              "<table border=\"1\" class=\"dataframe\">\n",
              "  <thead>\n",
              "    <tr style=\"text-align: right;\">\n",
              "      <th></th>\n",
              "      <th>num</th>\n",
              "      <th>f1</th>\n",
              "      <th>f4_2</th>\n",
              "      <th>d1</th>\n",
              "      <th>A1</th>\n",
              "      <th>A2</th>\n",
              "      <th>A3</th>\n",
              "      <th>weight</th>\n",
              "      <th>w_n</th>\n",
              "    </tr>\n",
              "  </thead>\n",
              "  <tbody>\n",
              "    <tr>\n",
              "      <th>394</th>\n",
              "      <td>390.0</td>\n",
              "      <td>Алматы</td>\n",
              "      <td>25-34</td>\n",
              "      <td>Жен</td>\n",
              "      <td>В основном тканевые маски</td>\n",
              "      <td>NaN</td>\n",
              "      <td>NaN</td>\n",
              "      <td>9324.560000</td>\n",
              "      <td>1.512265</td>\n",
              "    </tr>\n",
              "    <tr>\n",
              "      <th>395</th>\n",
              "      <td>392.0</td>\n",
              "      <td>Алматы</td>\n",
              "      <td>25-34</td>\n",
              "      <td>Жен</td>\n",
              "      <td>В основном тканевые маски</td>\n",
              "      <td>NaN</td>\n",
              "      <td>NaN</td>\n",
              "      <td>9324.560000</td>\n",
              "      <td>1.512265</td>\n",
              "    </tr>\n",
              "    <tr>\n",
              "      <th>396</th>\n",
              "      <td>393.0</td>\n",
              "      <td>Нур-Султан</td>\n",
              "      <td>35-44</td>\n",
              "      <td>Жен</td>\n",
              "      <td>В основном тканевые маски</td>\n",
              "      <td>NaN</td>\n",
              "      <td>NaN</td>\n",
              "      <td>6570.846154</td>\n",
              "      <td>1.065665</td>\n",
              "    </tr>\n",
              "    <tr>\n",
              "      <th>397</th>\n",
              "      <td>396.0</td>\n",
              "      <td>Нур-Султан</td>\n",
              "      <td>25-34</td>\n",
              "      <td>Жен</td>\n",
              "      <td>В основном тканевые маски</td>\n",
              "      <td>NaN</td>\n",
              "      <td>NaN</td>\n",
              "      <td>6241.526316</td>\n",
              "      <td>1.012256</td>\n",
              "    </tr>\n",
              "    <tr>\n",
              "      <th>398</th>\n",
              "      <td>397.0</td>\n",
              "      <td>Нур-Султан</td>\n",
              "      <td>18-24</td>\n",
              "      <td>Жен</td>\n",
              "      <td>В основном тканевые маски</td>\n",
              "      <td>NaN</td>\n",
              "      <td>NaN</td>\n",
              "      <td>2637.315789</td>\n",
              "      <td>0.427722</td>\n",
              "    </tr>\n",
              "    <tr>\n",
              "      <th>399</th>\n",
              "      <td>400.0</td>\n",
              "      <td>Нур-Султан</td>\n",
              "      <td>25-34</td>\n",
              "      <td>Муж</td>\n",
              "      <td>В основном тканевые маски</td>\n",
              "      <td>NaN</td>\n",
              "      <td>NaN</td>\n",
              "      <td>2569.634146</td>\n",
              "      <td>0.416745</td>\n",
              "    </tr>\n",
              "    <tr>\n",
              "      <th>400</th>\n",
              "      <td>401.0</td>\n",
              "      <td>Нур-Султан</td>\n",
              "      <td>25-34</td>\n",
              "      <td>Жен</td>\n",
              "      <td>В основном тканевые маски</td>\n",
              "      <td>NaN</td>\n",
              "      <td>NaN</td>\n",
              "      <td>6241.526316</td>\n",
              "      <td>1.012256</td>\n",
              "    </tr>\n",
              "    <tr>\n",
              "      <th>401</th>\n",
              "      <td>402.0</td>\n",
              "      <td>Нур-Султан</td>\n",
              "      <td>18-24</td>\n",
              "      <td>Жен</td>\n",
              "      <td>В основном тканевые маски</td>\n",
              "      <td>NaN</td>\n",
              "      <td>NaN</td>\n",
              "      <td>2637.315789</td>\n",
              "      <td>0.427722</td>\n",
              "    </tr>\n",
              "    <tr>\n",
              "      <th>402</th>\n",
              "      <td>403.0</td>\n",
              "      <td>Алматы</td>\n",
              "      <td>25-34</td>\n",
              "      <td>Жен</td>\n",
              "      <td>В основном тканевые маски</td>\n",
              "      <td>NaN</td>\n",
              "      <td>NaN</td>\n",
              "      <td>9324.560000</td>\n",
              "      <td>1.512265</td>\n",
              "    </tr>\n",
              "    <tr>\n",
              "      <th>403</th>\n",
              "      <td>404.0</td>\n",
              "      <td>Шымкент</td>\n",
              "      <td>25-34</td>\n",
              "      <td>Жен</td>\n",
              "      <td>Не ношу маски</td>\n",
              "      <td>NaN</td>\n",
              "      <td>NaN</td>\n",
              "      <td>5238.277778</td>\n",
              "      <td>0.849548</td>\n",
              "    </tr>\n",
              "  </tbody>\n",
              "</table>\n",
              "</div>\n",
              "      <button class=\"colab-df-convert\" onclick=\"convertToInteractive('df-1b62f97e-f714-4e28-a183-6635e2c32577')\"\n",
              "              title=\"Convert this dataframe to an interactive table.\"\n",
              "              style=\"display:none;\">\n",
              "        \n",
              "  <svg xmlns=\"http://www.w3.org/2000/svg\" height=\"24px\"viewBox=\"0 0 24 24\"\n",
              "       width=\"24px\">\n",
              "    <path d=\"M0 0h24v24H0V0z\" fill=\"none\"/>\n",
              "    <path d=\"M18.56 5.44l.94 2.06.94-2.06 2.06-.94-2.06-.94-.94-2.06-.94 2.06-2.06.94zm-11 1L8.5 8.5l.94-2.06 2.06-.94-2.06-.94L8.5 2.5l-.94 2.06-2.06.94zm10 10l.94 2.06.94-2.06 2.06-.94-2.06-.94-.94-2.06-.94 2.06-2.06.94z\"/><path d=\"M17.41 7.96l-1.37-1.37c-.4-.4-.92-.59-1.43-.59-.52 0-1.04.2-1.43.59L10.3 9.45l-7.72 7.72c-.78.78-.78 2.05 0 2.83L4 21.41c.39.39.9.59 1.41.59.51 0 1.02-.2 1.41-.59l7.78-7.78 2.81-2.81c.8-.78.8-2.07 0-2.86zM5.41 20L4 18.59l7.72-7.72 1.47 1.35L5.41 20z\"/>\n",
              "  </svg>\n",
              "      </button>\n",
              "      \n",
              "  <style>\n",
              "    .colab-df-container {\n",
              "      display:flex;\n",
              "      flex-wrap:wrap;\n",
              "      gap: 12px;\n",
              "    }\n",
              "\n",
              "    .colab-df-convert {\n",
              "      background-color: #E8F0FE;\n",
              "      border: none;\n",
              "      border-radius: 50%;\n",
              "      cursor: pointer;\n",
              "      display: none;\n",
              "      fill: #1967D2;\n",
              "      height: 32px;\n",
              "      padding: 0 0 0 0;\n",
              "      width: 32px;\n",
              "    }\n",
              "\n",
              "    .colab-df-convert:hover {\n",
              "      background-color: #E2EBFA;\n",
              "      box-shadow: 0px 1px 2px rgba(60, 64, 67, 0.3), 0px 1px 3px 1px rgba(60, 64, 67, 0.15);\n",
              "      fill: #174EA6;\n",
              "    }\n",
              "\n",
              "    [theme=dark] .colab-df-convert {\n",
              "      background-color: #3B4455;\n",
              "      fill: #D2E3FC;\n",
              "    }\n",
              "\n",
              "    [theme=dark] .colab-df-convert:hover {\n",
              "      background-color: #434B5C;\n",
              "      box-shadow: 0px 1px 3px 1px rgba(0, 0, 0, 0.15);\n",
              "      filter: drop-shadow(0px 1px 2px rgba(0, 0, 0, 0.3));\n",
              "      fill: #FFFFFF;\n",
              "    }\n",
              "  </style>\n",
              "\n",
              "      <script>\n",
              "        const buttonEl =\n",
              "          document.querySelector('#df-1b62f97e-f714-4e28-a183-6635e2c32577 button.colab-df-convert');\n",
              "        buttonEl.style.display =\n",
              "          google.colab.kernel.accessAllowed ? 'block' : 'none';\n",
              "\n",
              "        async function convertToInteractive(key) {\n",
              "          const element = document.querySelector('#df-1b62f97e-f714-4e28-a183-6635e2c32577');\n",
              "          const dataTable =\n",
              "            await google.colab.kernel.invokeFunction('convertToInteractive',\n",
              "                                                     [key], {});\n",
              "          if (!dataTable) return;\n",
              "\n",
              "          const docLinkHtml = 'Like what you see? Visit the ' +\n",
              "            '<a target=\"_blank\" href=https://colab.research.google.com/notebooks/data_table.ipynb>data table notebook</a>'\n",
              "            + ' to learn more about interactive tables.';\n",
              "          element.innerHTML = '';\n",
              "          dataTable['output_type'] = 'display_data';\n",
              "          await google.colab.output.renderOutput(dataTable, element);\n",
              "          const docLink = document.createElement('div');\n",
              "          docLink.innerHTML = docLinkHtml;\n",
              "          element.appendChild(docLink);\n",
              "        }\n",
              "      </script>\n",
              "    </div>\n",
              "  </div>\n",
              "  "
            ]
          },
          "metadata": {},
          "execution_count": 31
        }
      ]
    },
    {
      "cell_type": "code",
      "source": [
        "\n",
        "def Cut(filter, subj = ''):\n",
        "\n",
        "  if subj != '':\n",
        "    filter_name = subj\n",
        "\n",
        "  path = filter_name + '.xlsx'\n",
        "  writer = pd.ExcelWriter(path, engine = 'xlsxwriter')\n",
        "\n",
        "  \n",
        "  for i in df[filter].unique():\n",
        "    df_filtered = df[df[filter] == i]\n",
        "    df_filtered.to_excel(writer, sheet_name = i, index = False)\n",
        "\n",
        "  writer.close()"
      ],
      "metadata": {
        "id": "smEJx2X6PwD9"
      },
      "execution_count": null,
      "outputs": []
    },
    {
      "cell_type": "code",
      "source": [
        "# 1.\tПоказать какие маски носят респонденты в разрезе по городам, по полу, по возрасту отдельно.\n",
        "\n",
        "Cut('f1', 'Города') #города\n",
        "Cut('d1', 'Пол') #пол\n",
        "Cut('f4_2', 'Возраст') #возраст\n",
        "\n",
        "#выгружены в excel \n"
      ],
      "metadata": {
        "id": "AkzeXyzvT0XL"
      },
      "execution_count": null,
      "outputs": []
    },
    {
      "cell_type": "code",
      "source": [
        "# 2.\tТе, кто носят в основном одноразовые маски, какая доля из них выбрасывает маски сразу или носит повторно ранее использованные? \n",
        "print(df['A1'].unique())\n",
        "print(df['A2'].unique())"
      ],
      "metadata": {
        "colab": {
          "base_uri": "https://localhost:8080/"
        },
        "id": "ow0JdAntVlVs",
        "outputId": "be4f5b86-1a84-47b2-f20f-df7d59b0d93d"
      },
      "execution_count": null,
      "outputs": [
        {
          "output_type": "stream",
          "name": "stdout",
          "text": [
            "['В основном одноразовые маски' 'В основном тканевые маски'\n",
            " 'Не ношу маски']\n",
            "['Нет, я ее сразу выбрасываю' 'Да' nan]\n"
          ]
        }
      ]
    },
    {
      "cell_type": "code",
      "source": [
        "df_odnoraz_maski = df[df['A1'] == 'В основном одноразовые маски']\n",
        "df_odnoraz_maski.tail()\n",
        "df_odnoraz_maski.shape[0] # кол-во респондентов кто носит в основном одноразовые маски"
      ],
      "metadata": {
        "colab": {
          "base_uri": "https://localhost:8080/"
        },
        "id": "VVBa4e7UYCl2",
        "outputId": "6b20dd93-d3c9-4b46-f9c1-ccbe6b55b8cb"
      },
      "execution_count": null,
      "outputs": [
        {
          "output_type": "execute_result",
          "data": {
            "text/plain": [
              "239"
            ]
          },
          "metadata": {},
          "execution_count": 8
        }
      ]
    },
    {
      "cell_type": "code",
      "source": [
        "df_net_srazu_vybrasyvau = df_odnoraz_maski[df_odnoraz_maski['A2'] == 'Нет, я ее сразу выбрасываю']\n",
        "df_net_srazu_vybrasyvau.head(10)\n",
        "df_net_srazu_vybrasyvau.shape[0] # кол-во респондентов кто сразу выбрасывает одноразовые маски"
      ],
      "metadata": {
        "colab": {
          "base_uri": "https://localhost:8080/"
        },
        "id": "oKPmOf_lY4r9",
        "outputId": "1986ce06-13a5-4f50-cbf4-fb9da885e7a2"
      },
      "execution_count": null,
      "outputs": [
        {
          "output_type": "execute_result",
          "data": {
            "text/plain": [
              "71"
            ]
          },
          "metadata": {},
          "execution_count": 9
        }
      ]
    },
    {
      "cell_type": "code",
      "source": [
        "df_da_noshu_povtorno = df_odnoraz_maski[df_odnoraz_maski['A2'] == 'Да']\n",
        "df_da_noshu_povtorno.tail(10)\n",
        "df_da_noshu_povtorno.shape[0]"
      ],
      "metadata": {
        "colab": {
          "base_uri": "https://localhost:8080/"
        },
        "id": "3q7tUMHFZ9Ll",
        "outputId": "642d10a4-a15d-4d69-eb75-d799d9ba4225"
      },
      "execution_count": null,
      "outputs": [
        {
          "output_type": "execute_result",
          "data": {
            "text/plain": [
              "168"
            ]
          },
          "metadata": {},
          "execution_count": 10
        }
      ]
    },
    {
      "cell_type": "code",
      "source": [
        "#что кол-во людей кто сразу выкидывает однораз маски + люди кто носит повторно однораз маски\n",
        "# = количеству людей кто носит одноразовые маск в целом\n",
        "\n",
        "print(df_da_noshu_povtorno.shape[0] + df_net_srazu_vybrasyvau.shape[0], '?=', df_odnoraz_maski.shape[0] )"
      ],
      "metadata": {
        "colab": {
          "base_uri": "https://localhost:8080/"
        },
        "id": "hi8p_BB0adtx",
        "outputId": "4bafbea9-84a2-4432-aac0-e2ea4063bf20"
      },
      "execution_count": null,
      "outputs": [
        {
          "output_type": "stream",
          "name": "stdout",
          "text": [
            "239 ?= 239\n"
          ]
        }
      ]
    },
    {
      "cell_type": "code",
      "source": [
        "print(df_da_noshu_povtorno.shape[0] / df_odnoraz_maski.shape[0])\n",
        "print(df_net_srazu_vybrasyvau.shape[0] / df_odnoraz_maski.shape[0])\n"
      ],
      "metadata": {
        "colab": {
          "base_uri": "https://localhost:8080/"
        },
        "id": "zLbxgKoTbQhK",
        "outputId": "3df5bd1e-ff1d-488b-b20d-290f5a9ab862"
      },
      "execution_count": null,
      "outputs": [
        {
          "output_type": "stream",
          "name": "stdout",
          "text": [
            "0.702928870292887\n",
            "0.29707112970711297\n"
          ]
        }
      ]
    },
    {
      "cell_type": "markdown",
      "source": [
        "70% **респондентов** носят одноразовые маски больше одного раза, и соответственно только 30% выбрасывают их после первого использования"
      ],
      "metadata": {
        "id": "1FD2KjCIbtQ_"
      }
    },
    {
      "cell_type": "code",
      "source": [
        "# 3.\tСколько раз используют одноразовую маску в Алматы, женщины от 18-24 лет? \n",
        "df_almat_18_24_zhen_odnoraz = df[(df['f1'] == 'Алматы') & (df['f4_2'] == '18-24') & (df['d1'] == 'Жен') & (df['A1'] == 'В основном одноразовые маски')]\n"
      ],
      "metadata": {
        "id": "ot4GpTIkb5l2"
      },
      "execution_count": null,
      "outputs": []
    },
    {
      "cell_type": "code",
      "source": [
        "df_almat_18_24_zhen_odnoraz.head(20)"
      ],
      "metadata": {
        "colab": {
          "base_uri": "https://localhost:8080/",
          "height": 300
        },
        "id": "D-lVswBgu-Li",
        "outputId": "dcc1b3a9-2df8-4e78-8eae-8667f2bb80fc"
      },
      "execution_count": null,
      "outputs": [
        {
          "output_type": "execute_result",
          "data": {
            "text/plain": [
              "       num      f1   f4_2   d1                            A1  \\\n",
              "44   206.0  Алматы  18-24  Жен  В основном одноразовые маски   \n",
              "46   209.0  Алматы  18-24  Жен  В основном одноразовые маски   \n",
              "77    10.0  Алматы  18-24  Жен  В основном одноразовые маски   \n",
              "79    13.0  Алматы  18-24  Жен  В основном одноразовые маски   \n",
              "133  141.0  Алматы  18-24  Жен  В основном одноразовые маски   \n",
              "142  162.0  Алматы  18-24  Жен  В основном одноразовые маски   \n",
              "168  233.0  Алматы  18-24  Жен  В основном одноразовые маски   \n",
              "226  372.0  Алматы  18-24  Жен  В основном одноразовые маски   \n",
              "\n",
              "                             A2            A3       weight       w_n  \n",
              "44   Нет, я ее сразу выбрасываю           NaN  5209.352941  0.844857  \n",
              "46   Нет, я ее сразу выбрасываю           NaN  5209.352941  0.844857  \n",
              "77                           Да      5-10 раз  5209.352941  0.844857  \n",
              "79                           Да   Менее 5 раз  5209.352941  0.844857  \n",
              "133                          Да  Более 10 раз  5209.352941  0.844857  \n",
              "142                          Да   Менее 5 раз  5209.352941  0.844857  \n",
              "168                          Да  Более 10 раз  5209.352941  0.844857  \n",
              "226                          Да  Более 10 раз  5209.352941  0.844857  "
            ],
            "text/html": [
              "\n",
              "  <div id=\"df-96dcb332-f21e-4ff0-bee2-f355e8e7848e\">\n",
              "    <div class=\"colab-df-container\">\n",
              "      <div>\n",
              "<style scoped>\n",
              "    .dataframe tbody tr th:only-of-type {\n",
              "        vertical-align: middle;\n",
              "    }\n",
              "\n",
              "    .dataframe tbody tr th {\n",
              "        vertical-align: top;\n",
              "    }\n",
              "\n",
              "    .dataframe thead th {\n",
              "        text-align: right;\n",
              "    }\n",
              "</style>\n",
              "<table border=\"1\" class=\"dataframe\">\n",
              "  <thead>\n",
              "    <tr style=\"text-align: right;\">\n",
              "      <th></th>\n",
              "      <th>num</th>\n",
              "      <th>f1</th>\n",
              "      <th>f4_2</th>\n",
              "      <th>d1</th>\n",
              "      <th>A1</th>\n",
              "      <th>A2</th>\n",
              "      <th>A3</th>\n",
              "      <th>weight</th>\n",
              "      <th>w_n</th>\n",
              "    </tr>\n",
              "  </thead>\n",
              "  <tbody>\n",
              "    <tr>\n",
              "      <th>44</th>\n",
              "      <td>206.0</td>\n",
              "      <td>Алматы</td>\n",
              "      <td>18-24</td>\n",
              "      <td>Жен</td>\n",
              "      <td>В основном одноразовые маски</td>\n",
              "      <td>Нет, я ее сразу выбрасываю</td>\n",
              "      <td>NaN</td>\n",
              "      <td>5209.352941</td>\n",
              "      <td>0.844857</td>\n",
              "    </tr>\n",
              "    <tr>\n",
              "      <th>46</th>\n",
              "      <td>209.0</td>\n",
              "      <td>Алматы</td>\n",
              "      <td>18-24</td>\n",
              "      <td>Жен</td>\n",
              "      <td>В основном одноразовые маски</td>\n",
              "      <td>Нет, я ее сразу выбрасываю</td>\n",
              "      <td>NaN</td>\n",
              "      <td>5209.352941</td>\n",
              "      <td>0.844857</td>\n",
              "    </tr>\n",
              "    <tr>\n",
              "      <th>77</th>\n",
              "      <td>10.0</td>\n",
              "      <td>Алматы</td>\n",
              "      <td>18-24</td>\n",
              "      <td>Жен</td>\n",
              "      <td>В основном одноразовые маски</td>\n",
              "      <td>Да</td>\n",
              "      <td>5-10 раз</td>\n",
              "      <td>5209.352941</td>\n",
              "      <td>0.844857</td>\n",
              "    </tr>\n",
              "    <tr>\n",
              "      <th>79</th>\n",
              "      <td>13.0</td>\n",
              "      <td>Алматы</td>\n",
              "      <td>18-24</td>\n",
              "      <td>Жен</td>\n",
              "      <td>В основном одноразовые маски</td>\n",
              "      <td>Да</td>\n",
              "      <td>Менее 5 раз</td>\n",
              "      <td>5209.352941</td>\n",
              "      <td>0.844857</td>\n",
              "    </tr>\n",
              "    <tr>\n",
              "      <th>133</th>\n",
              "      <td>141.0</td>\n",
              "      <td>Алматы</td>\n",
              "      <td>18-24</td>\n",
              "      <td>Жен</td>\n",
              "      <td>В основном одноразовые маски</td>\n",
              "      <td>Да</td>\n",
              "      <td>Более 10 раз</td>\n",
              "      <td>5209.352941</td>\n",
              "      <td>0.844857</td>\n",
              "    </tr>\n",
              "    <tr>\n",
              "      <th>142</th>\n",
              "      <td>162.0</td>\n",
              "      <td>Алматы</td>\n",
              "      <td>18-24</td>\n",
              "      <td>Жен</td>\n",
              "      <td>В основном одноразовые маски</td>\n",
              "      <td>Да</td>\n",
              "      <td>Менее 5 раз</td>\n",
              "      <td>5209.352941</td>\n",
              "      <td>0.844857</td>\n",
              "    </tr>\n",
              "    <tr>\n",
              "      <th>168</th>\n",
              "      <td>233.0</td>\n",
              "      <td>Алматы</td>\n",
              "      <td>18-24</td>\n",
              "      <td>Жен</td>\n",
              "      <td>В основном одноразовые маски</td>\n",
              "      <td>Да</td>\n",
              "      <td>Более 10 раз</td>\n",
              "      <td>5209.352941</td>\n",
              "      <td>0.844857</td>\n",
              "    </tr>\n",
              "    <tr>\n",
              "      <th>226</th>\n",
              "      <td>372.0</td>\n",
              "      <td>Алматы</td>\n",
              "      <td>18-24</td>\n",
              "      <td>Жен</td>\n",
              "      <td>В основном одноразовые маски</td>\n",
              "      <td>Да</td>\n",
              "      <td>Более 10 раз</td>\n",
              "      <td>5209.352941</td>\n",
              "      <td>0.844857</td>\n",
              "    </tr>\n",
              "  </tbody>\n",
              "</table>\n",
              "</div>\n",
              "      <button class=\"colab-df-convert\" onclick=\"convertToInteractive('df-96dcb332-f21e-4ff0-bee2-f355e8e7848e')\"\n",
              "              title=\"Convert this dataframe to an interactive table.\"\n",
              "              style=\"display:none;\">\n",
              "        \n",
              "  <svg xmlns=\"http://www.w3.org/2000/svg\" height=\"24px\"viewBox=\"0 0 24 24\"\n",
              "       width=\"24px\">\n",
              "    <path d=\"M0 0h24v24H0V0z\" fill=\"none\"/>\n",
              "    <path d=\"M18.56 5.44l.94 2.06.94-2.06 2.06-.94-2.06-.94-.94-2.06-.94 2.06-2.06.94zm-11 1L8.5 8.5l.94-2.06 2.06-.94-2.06-.94L8.5 2.5l-.94 2.06-2.06.94zm10 10l.94 2.06.94-2.06 2.06-.94-2.06-.94-.94-2.06-.94 2.06-2.06.94z\"/><path d=\"M17.41 7.96l-1.37-1.37c-.4-.4-.92-.59-1.43-.59-.52 0-1.04.2-1.43.59L10.3 9.45l-7.72 7.72c-.78.78-.78 2.05 0 2.83L4 21.41c.39.39.9.59 1.41.59.51 0 1.02-.2 1.41-.59l7.78-7.78 2.81-2.81c.8-.78.8-2.07 0-2.86zM5.41 20L4 18.59l7.72-7.72 1.47 1.35L5.41 20z\"/>\n",
              "  </svg>\n",
              "      </button>\n",
              "      \n",
              "  <style>\n",
              "    .colab-df-container {\n",
              "      display:flex;\n",
              "      flex-wrap:wrap;\n",
              "      gap: 12px;\n",
              "    }\n",
              "\n",
              "    .colab-df-convert {\n",
              "      background-color: #E8F0FE;\n",
              "      border: none;\n",
              "      border-radius: 50%;\n",
              "      cursor: pointer;\n",
              "      display: none;\n",
              "      fill: #1967D2;\n",
              "      height: 32px;\n",
              "      padding: 0 0 0 0;\n",
              "      width: 32px;\n",
              "    }\n",
              "\n",
              "    .colab-df-convert:hover {\n",
              "      background-color: #E2EBFA;\n",
              "      box-shadow: 0px 1px 2px rgba(60, 64, 67, 0.3), 0px 1px 3px 1px rgba(60, 64, 67, 0.15);\n",
              "      fill: #174EA6;\n",
              "    }\n",
              "\n",
              "    [theme=dark] .colab-df-convert {\n",
              "      background-color: #3B4455;\n",
              "      fill: #D2E3FC;\n",
              "    }\n",
              "\n",
              "    [theme=dark] .colab-df-convert:hover {\n",
              "      background-color: #434B5C;\n",
              "      box-shadow: 0px 1px 3px 1px rgba(0, 0, 0, 0.15);\n",
              "      filter: drop-shadow(0px 1px 2px rgba(0, 0, 0, 0.3));\n",
              "      fill: #FFFFFF;\n",
              "    }\n",
              "  </style>\n",
              "\n",
              "      <script>\n",
              "        const buttonEl =\n",
              "          document.querySelector('#df-96dcb332-f21e-4ff0-bee2-f355e8e7848e button.colab-df-convert');\n",
              "        buttonEl.style.display =\n",
              "          google.colab.kernel.accessAllowed ? 'block' : 'none';\n",
              "\n",
              "        async function convertToInteractive(key) {\n",
              "          const element = document.querySelector('#df-96dcb332-f21e-4ff0-bee2-f355e8e7848e');\n",
              "          const dataTable =\n",
              "            await google.colab.kernel.invokeFunction('convertToInteractive',\n",
              "                                                     [key], {});\n",
              "          if (!dataTable) return;\n",
              "\n",
              "          const docLinkHtml = 'Like what you see? Visit the ' +\n",
              "            '<a target=\"_blank\" href=https://colab.research.google.com/notebooks/data_table.ipynb>data table notebook</a>'\n",
              "            + ' to learn more about interactive tables.';\n",
              "          element.innerHTML = '';\n",
              "          dataTable['output_type'] = 'display_data';\n",
              "          await google.colab.output.renderOutput(dataTable, element);\n",
              "          const docLink = document.createElement('div');\n",
              "          docLink.innerHTML = docLinkHtml;\n",
              "          element.appendChild(docLink);\n",
              "        }\n",
              "      </script>\n",
              "    </div>\n",
              "  </div>\n",
              "  "
            ]
          },
          "metadata": {},
          "execution_count": 14
        }
      ]
    },
    {
      "cell_type": "code",
      "source": [
        "# Создание словарря с ключами по уникальным значениям из A3 и значениями =0\n",
        "# ключ по nan переделали в 'Ноль'\n",
        "A3_dict = {}\n",
        "for i in df_almat_18_24_zhen_odnoraz['A3'].unique():\n",
        "  if pd.isna(i):\n",
        "    A3_dict['Ноль'] = 0\n",
        "  else:\n",
        "    A3_dict[i] = 0\n",
        "\n",
        "print(A3_dict)\n",
        "\n",
        "\n"
      ],
      "metadata": {
        "colab": {
          "base_uri": "https://localhost:8080/"
        },
        "id": "D2Ve9yWk6sPA",
        "outputId": "c613ea89-9700-4e4b-9269-c460cbf57461"
      },
      "execution_count": null,
      "outputs": [
        {
          "output_type": "stream",
          "name": "stdout",
          "text": [
            "{'Ноль': 0, '5-10 раз': 0, 'Менее 5 раз': 0, 'Более 10 раз': 0}\n"
          ]
        }
      ]
    },
    {
      "cell_type": "code",
      "source": [
        "for i in df_almat_18_24_zhen_odnoraz['A3']:\n",
        "  print(i)"
      ],
      "metadata": {
        "colab": {
          "base_uri": "https://localhost:8080/"
        },
        "id": "MuCcRt0uASza",
        "outputId": "29597190-efd8-46ff-843b-49fea66cba4d"
      },
      "execution_count": null,
      "outputs": [
        {
          "output_type": "stream",
          "name": "stdout",
          "text": [
            "nan\n",
            "nan\n",
            "5-10 раз\n",
            "Менее 5 раз\n",
            "Более 10 раз\n",
            "Менее 5 раз\n",
            "Более 10 раз\n",
            "Более 10 раз\n"
          ]
        }
      ]
    },
    {
      "cell_type": "code",
      "source": [
        "for i in df_almat_18_24_zhen_odnoraz['A3']:\n",
        "  if pd.isna(i):\n",
        "    A3_dict['Ноль'] += 1\n",
        "  else:\n",
        "    A3_dict[i] += 1\n"
      ],
      "metadata": {
        "id": "Gf42naUM7xzK"
      },
      "execution_count": null,
      "outputs": []
    },
    {
      "cell_type": "code",
      "source": [
        "for i in A3_dict:\n",
        "  print(i, ':', A3_dict[i])"
      ],
      "metadata": {
        "colab": {
          "base_uri": "https://localhost:8080/"
        },
        "id": "n1UOywXV42iI",
        "outputId": "3f40e031-0731-414e-c7f9-716d39ad46ca"
      },
      "execution_count": null,
      "outputs": [
        {
          "output_type": "stream",
          "name": "stdout",
          "text": [
            "Ноль : 2\n",
            "5-10 раз : 1\n",
            "Менее 5 раз : 2\n",
            "Более 10 раз : 3\n"
          ]
        }
      ]
    },
    {
      "cell_type": "code",
      "source": [],
      "metadata": {
        "colab": {
          "base_uri": "https://localhost:8080/"
        },
        "id": "4RULyT2bbHJS",
        "outputId": "136f25c7-7eb9-40d7-a550-e5b3c25a691a"
      },
      "execution_count": null,
      "outputs": [
        {
          "output_type": "execute_result",
          "data": {
            "text/plain": [
              "8"
            ]
          },
          "metadata": {},
          "execution_count": 28
        }
      ]
    },
    {
      "cell_type": "code",
      "source": [
        "for i in A3_dict:\n",
        "  print(i, ':', (A3_dict[i] / df_almat_18_24_zhen_odnoraz.shape[0] * 100),  '%')"
      ],
      "metadata": {
        "colab": {
          "base_uri": "https://localhost:8080/"
        },
        "id": "lFrKp9iCaXjJ",
        "outputId": "7c9237a7-f37c-45a0-cca3-38ba17e9df25"
      },
      "execution_count": null,
      "outputs": [
        {
          "output_type": "stream",
          "name": "stdout",
          "text": [
            "Ноль : 25.0 %\n",
            "5-10 раз : 12.5 %\n",
            "Менее 5 раз : 25.0 %\n",
            "Более 10 раз : 37.5 %\n"
          ]
        }
      ]
    }
  ]
}